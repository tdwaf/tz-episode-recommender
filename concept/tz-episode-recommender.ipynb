{
 "cells": [
  {
   "cell_type": "code",
   "execution_count": 2,
   "id": "45f5f17e-c599-4d84-a11a-a1f88b023883",
   "metadata": {
    "tags": []
   },
   "outputs": [],
   "source": [
    "from sklearn.feature_extraction.text import TfidfVectorizer\n",
    "tfidf = TfidfVectorizer(stop_words='english')\n",
    "import pandas as pd"
   ]
  },
  {
   "cell_type": "code",
   "execution_count": 3,
   "id": "3938e1e1-738f-4e18-9d33-03b6bc1e6276",
   "metadata": {},
   "outputs": [],
   "source": [
    "data = pd.read_csv('data/twilight_zone_data.csv', low_memory=False)"
   ]
  },
  {
   "cell_type": "code",
   "execution_count": 9,
   "id": "bee505e8-6f45-4801-8147-3ff8e2511bb5",
   "metadata": {
    "tags": []
   },
   "outputs": [
    {
     "data": {
      "text/plain": [
       "array(['1847', '1862', '1863', ..., 'younger', 'youth', 'zone'],\n",
       "      dtype=object)"
      ]
     },
     "execution_count": 9,
     "metadata": {},
     "output_type": "execute_result"
    }
   ],
   "source": [
    "tfidf_matrix = tfidf.fit_transform(data['episode_description'])\n",
    "tfidf_matrix.shape\n",
    "\n",
    "tfidf.get_feature_names_out()"
   ]
  },
  {
   "cell_type": "code",
   "execution_count": 10,
   "id": "643bf16b-ffce-46d2-a6f0-73467fa412d9",
   "metadata": {
    "tags": []
   },
   "outputs": [],
   "source": [
    "from sklearn.metrics.pairwise import linear_kernel\n",
    "cosine_sim = linear_kernel(tfidf_matrix, tfidf_matrix)"
   ]
  },
  {
   "cell_type": "code",
   "execution_count": 11,
   "id": "d330ae6e-44a3-40d9-a332-035fd1cc84e3",
   "metadata": {
    "tags": []
   },
   "outputs": [
    {
     "data": {
      "text/plain": [
       "(156, 156)"
      ]
     },
     "execution_count": 11,
     "metadata": {},
     "output_type": "execute_result"
    }
   ],
   "source": [
    "cosine_sim.shape"
   ]
  },
  {
   "cell_type": "code",
   "execution_count": 12,
   "id": "f782da3b-764a-43fc-b3ff-38ddfaecfa43",
   "metadata": {
    "tags": []
   },
   "outputs": [
    {
     "data": {
      "text/plain": [
       "array([0.        , 1.        , 0.        , 0.        , 0.        ,\n",
       "       0.        , 0.        , 0.        , 0.        , 0.        ,\n",
       "       0.        , 0.        , 0.        , 0.        , 0.105458  ,\n",
       "       0.        , 0.        , 0.        , 0.        , 0.        ,\n",
       "       0.        , 0.        , 0.        , 0.        , 0.        ,\n",
       "       0.        , 0.        , 0.        , 0.        , 0.        ,\n",
       "       0.        , 0.        , 0.        , 0.        , 0.        ,\n",
       "       0.        , 0.        , 0.        , 0.        , 0.        ,\n",
       "       0.        , 0.        , 0.        , 0.        , 0.        ,\n",
       "       0.        , 0.        , 0.        , 0.        , 0.        ,\n",
       "       0.        , 0.        , 0.        , 0.        , 0.        ,\n",
       "       0.        , 0.        , 0.        , 0.        , 0.        ,\n",
       "       0.        , 0.06555783, 0.        , 0.        , 0.09730578,\n",
       "       0.        , 0.        , 0.        , 0.        , 0.        ,\n",
       "       0.        , 0.        , 0.        , 0.        , 0.        ,\n",
       "       0.        , 0.        , 0.        , 0.        , 0.        ,\n",
       "       0.21598101, 0.        , 0.        , 0.        , 0.        ,\n",
       "       0.        , 0.        , 0.        , 0.        , 0.        ,\n",
       "       0.        , 0.        , 0.        , 0.        , 0.        ,\n",
       "       0.        , 0.        , 0.        , 0.        , 0.        ,\n",
       "       0.        , 0.11754102, 0.        , 0.        , 0.        ,\n",
       "       0.        , 0.        , 0.        , 0.        , 0.        ,\n",
       "       0.        , 0.        , 0.        , 0.        , 0.        ,\n",
       "       0.        , 0.        , 0.        , 0.        , 0.        ,\n",
       "       0.        , 0.        , 0.        , 0.        , 0.        ,\n",
       "       0.        , 0.        , 0.10304364, 0.        , 0.        ,\n",
       "       0.        , 0.        , 0.        , 0.0843863 , 0.        ,\n",
       "       0.        , 0.        , 0.        , 0.        , 0.        ,\n",
       "       0.        , 0.        , 0.        , 0.        , 0.        ,\n",
       "       0.        , 0.        , 0.        , 0.        , 0.        ,\n",
       "       0.        , 0.0590651 , 0.        , 0.        , 0.        ,\n",
       "       0.        ])"
      ]
     },
     "execution_count": 12,
     "metadata": {},
     "output_type": "execute_result"
    }
   ],
   "source": [
    "cosine_sim[1]"
   ]
  },
  {
   "cell_type": "code",
   "execution_count": 13,
   "id": "d712a0b1-ea6f-4bdb-89e8-8d18492ef6b9",
   "metadata": {
    "tags": []
   },
   "outputs": [],
   "source": [
    "indices = pd.Series(data.index, index=data['episode_name'])"
   ]
  },
  {
   "cell_type": "code",
   "execution_count": 14,
   "id": "78c1b8b6-1555-4f5d-825f-0138ddd69f4d",
   "metadata": {
    "tags": []
   },
   "outputs": [
    {
     "data": {
      "text/plain": [
       "episode_name\n",
       "Where Is Everybody?              0\n",
       "One for the Angels               1\n",
       "Mr. Denton on Doomsday           2\n",
       "The Sixteen-Millimeter Shrine    3\n",
       "Walking Distance                 4\n",
       "Escape Clause                    5\n",
       "The Lonely                       6\n",
       "Time Enough at Last              7\n",
       "Perchance to Dream               8\n",
       "Judgment Night                   9\n",
       "dtype: int64"
      ]
     },
     "execution_count": 14,
     "metadata": {},
     "output_type": "execute_result"
    }
   ],
   "source": [
    "indices[:10]"
   ]
  },
  {
   "cell_type": "code",
   "execution_count": 17,
   "id": "c7e49654-7c95-4f62-93be-a5752d5a56c4",
   "metadata": {
    "tags": []
   },
   "outputs": [],
   "source": [
    "def get_recommendations(episode_name, cosine_sim=cosine_sim):\n",
    "    idx = indices[episode_name]\n",
    "\n",
    "    sim_scores = list(enumerate(cosine_sim[idx]))\n",
    "\n",
    "    sim_scores = sorted(sim_scores, key=lambda x: x[1], reverse=True)\n",
    "\n",
    "    sim_scores = sim_scores[1:11]\n",
    "\n",
    "    episode_indicies = [i[0] for i in sim_scores]\n",
    "\n",
    "    # Return the top 10 most similar movies\n",
    "    return data['episode_name'].iloc[episode_indicies]"
   ]
  },
  {
   "cell_type": "code",
   "execution_count": 18,
   "id": "15da42a3-44f1-411b-bc14-bca6664c0a35",
   "metadata": {
    "tags": []
   },
   "outputs": [
    {
     "data": {
      "text/plain": [
       "81                   One More Pallbearer\n",
       "13                    Third from the Sun\n",
       "88                          To Serve Man\n",
       "68                         The Passersby\n",
       "67                           The Shelter\n",
       "17                       The Last Flight\n",
       "4                       Walking Distance\n",
       "141    An Occurrence at Owl Creek Bridge\n",
       "79                    A Quality of Mercy\n",
       "150                        The Encounter\n",
       "Name: episode_name, dtype: object"
      ]
     },
     "execution_count": 18,
     "metadata": {},
     "output_type": "execute_result"
    }
   ],
   "source": [
    "get_recommendations('Time Enough at Last')"
   ]
  },
  {
   "cell_type": "code",
   "execution_count": null,
   "id": "a883d002-385b-4f11-b3e2-076e2247f6d1",
   "metadata": {},
   "outputs": [],
   "source": []
  }
 ],
 "metadata": {
  "kernelspec": {
   "display_name": "Python 3 (ipykernel)",
   "language": "python",
   "name": "python3"
  },
  "language_info": {
   "codemirror_mode": {
    "name": "ipython",
    "version": 3
   },
   "file_extension": ".py",
   "mimetype": "text/x-python",
   "name": "python",
   "nbconvert_exporter": "python",
   "pygments_lexer": "ipython3",
   "version": "3.11.5"
  }
 },
 "nbformat": 4,
 "nbformat_minor": 5
}
