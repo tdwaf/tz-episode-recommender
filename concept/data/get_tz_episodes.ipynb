{
 "cells": [
  {
   "cell_type": "code",
   "execution_count": 64,
   "id": "3dabc81f-7fa3-424f-9589-6bdf13bd01fd",
   "metadata": {},
   "outputs": [],
   "source": [
    "import requests\n",
    "import re\n",
    "from bs4 import BeautifulSoup\n",
    "import pandas as pd"
   ]
  },
  {
   "cell_type": "code",
   "execution_count": 82,
   "id": "f5f5ce1c-0e9f-4d53-b4fd-eb0fc56ebd41",
   "metadata": {
    "tags": []
   },
   "outputs": [],
   "source": [
    "class Season:\n",
    "    def __init__(self, season_number):\n",
    "        self.season_number = season_number\n",
    "    \n",
    "    def get_season_episode_data(self):\n",
    "        headers = {'User-Agent': 'Mozilla/5.0 (Macintosh; Intel Mac OS X 10_11_5) AppleWebKit/537.36 (KHTML, like Gecko) Chrome/50.0.2661.102 Safari/537.36'}\n",
    "        url = f'https://www.imdb.com/title/tt0052520/episodes/?season={str(self.season_number)}'\n",
    "        response = requests.get(url, headers=headers)\n",
    "        season_page = BeautifulSoup(response.content)\n",
    "        \n",
    "        return season_page.findAll('div', attrs={'class': 'sc-9115db22-1 egUMEz'})"
   ]
  },
  {
   "cell_type": "code",
   "execution_count": 89,
   "id": "1d723d47-53d5-4a79-900f-45c35b8da239",
   "metadata": {
    "tags": []
   },
   "outputs": [],
   "source": [
    "def get_season_episodes(season_number):\n",
    "    season_episodes_list = []\n",
    "    season_episodes = Season(season_number).get_season_episode_data()\n",
    "    \n",
    "    for index, episode in enumerate(season_episodes, start = 1):\n",
    "        \n",
    "        episode_number = index\n",
    "        \n",
    "        full_episode_title = episode.find('div', attrs={'class': 'ipc-title__text'})\n",
    "        episode_title = re.sub(r'^.*?∙ ', '', full_episode_title.text, flags=re.DOTALL).strip()\n",
    "        \n",
    "        episode_description = episode.find('div', attrs={'class': 'ipc-html-content-inner-div'}).text.strip()\n",
    "        \n",
    "        episode_data = {'season_number': season_number, 'episode_number': episode_number, 'episode_name': episode_title, 'episode_description': episode_description}\n",
    "        season_episodes_list.append(episode_data)\n",
    "    return season_episodes_list"
   ]
  },
  {
   "cell_type": "code",
   "execution_count": 95,
   "id": "e125a9a5-98d6-4b2d-b969-96952a61bebd",
   "metadata": {
    "tags": []
   },
   "outputs": [],
   "source": [
    "def export_season_episodes_to_csv():\n",
    "    all_seasons_episodes = []\n",
    "    \n",
    "    for season in range(1, 6):\n",
    "        season_episodes = get_season_episodes(season)\n",
    "        all_seasons_episodes.extend(season_episodes)\n",
    "    \n",
    "    print(all_seasons_episodes)\n",
    "        \n",
    "    df = pd.DataFrame(all_seasons_episodes)\n",
    "    df.to_csv('twilight_zone_data.csv', index=False)"
   ]
  },
  {
   "cell_type": "code",
   "execution_count": 96,
   "id": "3a134f6b-8d6f-4bf0-ba06-683ed3a8bce3",
   "metadata": {
    "tags": []
   },
   "outputs": [],
   "source": [
    "# export_season_episodes_to_csv()"
   ]
  }
 ],
 "metadata": {
  "kernelspec": {
   "display_name": "Python 3 (ipykernel)",
   "language": "python",
   "name": "python3"
  },
  "language_info": {
   "codemirror_mode": {
    "name": "ipython",
    "version": 3
   },
   "file_extension": ".py",
   "mimetype": "text/x-python",
   "name": "python",
   "nbconvert_exporter": "python",
   "pygments_lexer": "ipython3",
   "version": "3.11.5"
  }
 },
 "nbformat": 4,
 "nbformat_minor": 5
}
